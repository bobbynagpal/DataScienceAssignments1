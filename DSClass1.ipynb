{
 "cells": [
  {
   "cell_type": "markdown",
   "id": "dada7640-a200-4055-b039-79c93cef9220",
   "metadata": {
    "panel-layout": {
     "height": 51.1406,
     "visible": true,
     "width": 100
    }
   },
   "source": [
    "one  1"
   ]
  },
  {
   "cell_type": "code",
   "execution_count": 3,
   "id": "f102023f-c29b-47d9-9e8c-ac3a454b8b05",
   "metadata": {},
   "outputs": [
    {
     "name": "stdout",
     "output_type": "stream",
     "text": [
      "1\n",
      "2\n",
      "three\n",
      "iv\n",
      "V\n"
     ]
    }
   ],
   "source": [
    "one = 1\n",
    "two = 2\n",
    "three = \"three\"\n",
    "four = \"iv\"\n",
    "five = \"V\"\n",
    "print(one)\n",
    "print(two)\n",
    "print(three)\n",
    "print(four)\n",
    "print(five)"
   ]
  },
  {
   "cell_type": "raw",
   "id": "e2e93eba-850c-4398-a8f8-f64370e29a64",
   "metadata": {},
   "source": []
  }
 ],
 "metadata": {
  "kernelspec": {
   "display_name": "Python 3 (ipykernel)",
   "language": "python",
   "name": "python3"
  },
  "language_info": {
   "codemirror_mode": {
    "name": "ipython",
    "version": 3
   },
   "file_extension": ".py",
   "mimetype": "text/x-python",
   "name": "python",
   "nbconvert_exporter": "python",
   "pygments_lexer": "ipython3",
   "version": "3.12.7"
  },
  "panel-cell-order": [
   "dada7640-a200-4055-b039-79c93cef9220",
   "98b638d3-5263-49a2-9b39-fd2ca43328eb"
  ]
 },
 "nbformat": 4,
 "nbformat_minor": 5
}
