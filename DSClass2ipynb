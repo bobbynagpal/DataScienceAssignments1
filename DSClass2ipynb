{
 "cells": [
  {
   "cell_type": "code",
   "execution_count": 3,
   "id": "4ad61be9-e8b9-4077-a9cf-fa78090a05ee",
   "metadata": {},
   "outputs": [],
   "source": [
    "city = \"New Delhi\""
   ]
  },
  {
   "cell_type": "code",
   "execution_count": 4,
   "id": "0c78bf7e-0196-45e2-8101-8f094aa13526",
   "metadata": {},
   "outputs": [
    {
     "data": {
      "text/plain": [
       "str"
      ]
     },
     "execution_count": 4,
     "metadata": {},
     "output_type": "execute_result"
    }
   ],
   "source": [
    "type(city)"
   ]
  },
  {
   "cell_type": "code",
   "execution_count": 5,
   "id": "755e1c91-1fda-4a88-8dce-5a08229799c1",
   "metadata": {},
   "outputs": [],
   "source": [
    "a=str(42)\n"
   ]
  },
  {
   "cell_type": "code",
   "execution_count": 6,
   "id": "c181d51c-05fb-4b11-b257-a64dcd70d1cf",
   "metadata": {},
   "outputs": [
    {
     "name": "stdout",
     "output_type": "stream",
     "text": [
      "42\n"
     ]
    }
   ],
   "source": [
    "print(a)"
   ]
  },
  {
   "cell_type": "code",
   "execution_count": 8,
   "id": "496b4995-42a3-4b0c-80f6-fae58e7a8bd7",
   "metadata": {},
   "outputs": [
    {
     "name": "stdout",
     "output_type": "stream",
     "text": [
      "22\n"
     ]
    }
   ],
   "source": [
    "name = \"Bhuvanpal Singh Nagpal\"\n",
    "print(len(name))"
   ]
  },
  {
   "cell_type": "code",
   "execution_count": 9,
   "id": "922960e7-e8d0-491a-bf6e-43fd514e8690",
   "metadata": {},
   "outputs": [
    {
     "name": "stdout",
     "output_type": "stream",
     "text": [
      "yes\n"
     ]
    }
   ],
   "source": [
    "phrase = \"Code Square\"\n",
    "if \"Code\" in phrase:\n",
    "    print(\"yes\")"
   ]
  },
  {
   "cell_type": "raw",
   "id": "22c8d0ee-8c7a-4a61-92eb-a9316b18bf08",
   "metadata": {},
   "source": []
  }
 ],
 "metadata": {
  "kernelspec": {
   "display_name": "Python 3 (ipykernel)",
   "language": "python",
   "name": "python3"
  },
  "language_info": {
   "codemirror_mode": {
    "name": "ipython",
    "version": 3
   },
   "file_extension": ".py",
   "mimetype": "text/x-python",
   "name": "python",
   "nbconvert_exporter": "python",
   "pygments_lexer": "ipython3",
   "version": "3.12.7"
  }
 },
 "nbformat": 4,
 "nbformat_minor": 5
}
